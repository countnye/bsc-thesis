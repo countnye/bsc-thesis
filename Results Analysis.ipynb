{
 "cells": [
  {
   "cell_type": "code",
   "execution_count": 1,
   "id": "f82b0ecc",
   "metadata": {},
   "outputs": [
    {
     "name": "stdout",
     "output_type": "stream",
     "text": [
      "env: CUDA_VISIBLE_DEVICES=0\n"
     ]
    }
   ],
   "source": [
    "# Set notebook to use only one GPU\n",
    "%env CUDA_VISIBLE_DEVICES=0"
   ]
  },
  {
   "cell_type": "code",
   "execution_count": 2,
   "id": "da8eac33",
   "metadata": {},
   "outputs": [
    {
     "name": "stdout",
     "output_type": "stream",
     "text": [
      "Using TensorFlow backend\n"
     ]
    },
    {
     "name": "stderr",
     "output_type": "stream",
     "text": [
      "Keras Uncertainty will use standalone Keras backend"
     ]
    }
   ],
   "source": [
    "from file_functions import *\n",
    "from models_bachelors import *\n",
    "import plotly.express as px\n",
    "import plotly.figure_factory as ff\n",
    "import pandas as pd\n",
    "from sklearn.metrics import accuracy_score\n",
    "from plotly.subplots import make_subplots\n",
    "import plotly.graph_objects as go\n",
    "import matplotlib.pyplot as plt\n",
    "\n",
    "\n",
    "methods = load_dict_from_hdf5('predictions.h5')"
   ]
  },
  {
   "cell_type": "code",
   "execution_count": 3,
   "id": "7acc8c55",
   "metadata": {},
   "outputs": [],
   "source": [
    "def get_corrects(Y_true, Y_pred, axis):\n",
    "    return np.argmax(Y_true, axis=axis) == np.argmax(Y_pred, axis=axis)\n",
    "\n",
    "'''\n",
    "Takes as input, a dict of predictions and labels as such:\n",
    "{'preds': np.ndarray, 'labels': np.ndarray}\n",
    "'''\n",
    "def avg_pred_entropy_plots(dataset):\n",
    "    bin_size = 0.05\n",
    "    entropy = predictive_uncertainty(dataset['preds'])    # shape: (9,576)\n",
    "    Y_true = dataset['labels']    # shape: (9,576,4)\n",
    "    corrects = get_corrects(Y_true, dataset['preds'], axis=-1) # Get corrects across ALL subjects\n",
    "    entropy_correct = entropy[corrects]\n",
    "    entropy_wrong = entropy[~corrects]\n",
    "    # For distribution plots of predictive entropy\n",
    "    hist_data = [entropy_correct, entropy_wrong]\n",
    "    group_labels = ['Correct', 'Incorrect']\n",
    "\n",
    "    # Normalizes AREA UNDER CURVE to sum up to 1. y-axis values are meaningless.\n",
    "    hist_correct, bins_correct, _ = plt.hist(entropy_correct, bins=20, density=True, alpha=0.5, label='Correct')\n",
    "    hist_wrong, bins_wrong, _ = plt.hist(entropy_wrong, bins=20, density=True, alpha=0.5, label='Wrong')\n",
    "    plt.legend()\n",
    "    plt.show()\n",
    "\n",
    "    # Calculate overlap using histogram intersection\n",
    "    overlap = np.sum(np.minimum(hist_correct, hist_wrong))\n",
    "\n",
    "    # Normalize overlap between 0 and 1\n",
    "    normalized_overlap = overlap / np.sum(hist_correct)\n",
    "\n",
    "    print(\"Overlap:\", normalized_overlap)\n",
    "\n",
    "'''\n",
    "Get accuracies for each subject and ret as list\n",
    "'''\n",
    "def get_accuracies(data):\n",
    "    acc = []\n",
    "    y_preds = data[\"preds\"].argmax(axis=-1)\n",
    "    y_trues = data[\"labels\"].argmax(axis=-1)\n",
    "    # Get accuracy of each subject\n",
    "    for idx, subject in enumerate(y_trues):\n",
    "        score = accuracy_score(y_pred=subject, y_true=y_preds[idx], normalize=True)\n",
    "        acc.append(score)\n",
    "    \n",
    "    return acc"
   ]
  },
  {
   "cell_type": "markdown",
   "id": "bbfa4ddf",
   "metadata": {},
   "source": [
    "# Results Analysis\n",
    "\n",
    "Analyse results\n"
   ]
  },
  {
   "cell_type": "markdown",
   "id": "34d765c1",
   "metadata": {},
   "source": [
    "# Rejection use case\n",
    "Makes no sense to use the interpretability usecase for motor imagery data. Maybe it might be useful for determining how parts of a sample contribute to uncertainty and final output.\n",
    "Make the following graphs:\n",
    "- Distribution of Average normalised predictive entropy for incorrect and correct predictions per test subject and lockbox per method. \n",
    "- Accuracy confidence plots for both methods on test and lockbox set."
   ]
  },
  {
   "cell_type": "markdown",
   "id": "d2d901a1",
   "metadata": {},
   "source": [
    "### Accuracy of each method"
   ]
  },
  {
   "cell_type": "code",
   "execution_count": 16,
   "id": "6eacadb7",
   "metadata": {},
   "outputs": [
    {
     "name": "stdout",
     "output_type": "stream",
     "text": [
      "mcdropconnect\n",
      "test set avg acc: 0.517\n",
      "lockbox set avg acc: 0.675\n",
      "\n",
      "mcdropout\n",
      "test set avg acc: 0.554\n",
      "lockbox set avg acc: 0.668\n",
      "\n",
      "standard\n",
      "test set avg acc: 0.548\n",
      "lockbox set avg acc: 0.648\n",
      "\n"
     ]
    }
   ],
   "source": [
    "for name, method in methods.items():\n",
    "    print(f'{name}')\n",
    "    np.set_printoptions(precision=3)\n",
    "    acc_list = get_accuracies(method[\"test\"])   # Get test set accuracies\n",
    "    print(f'test set avg acc: {round(np.mean(acc_list), 3)}')\n",
    "    acc_list = get_accuracies(method[\"lockbox\"])\n",
    "    print(f'lockbox set avg acc: {round(np.mean(acc_list), 3)}\\n')"
   ]
  },
  {
   "cell_type": "markdown",
   "id": "7c88f768",
   "metadata": {},
   "source": [
    "### Average normalised predictive entropy\n",
    "\n",
    "And associated normalised intersection for comparison [0, 1]\n"
   ]
  },
  {
   "cell_type": "code",
   "execution_count": 17,
   "metadata": {},
   "outputs": [
    {
     "name": "stdout",
     "output_type": "stream",
     "text": [
      "mcdropconnect test set\n"
     ]
    },
    {
     "data": {
      "image/png": "[encoded data removed]",
      "text/plain": [
       "<Figure size 432x288 with 1 Axes>"
      ]
     },
     "metadata": {
      "needs_background": "light"
     },
     "output_type": "display_data"
    },
    {
     "name": "stdout",
     "output_type": "stream",
     "text": [
      "Overlap: 0.7547453367744377\n",
      "lockbox\n"
     ]
    },
    {
     "data": {
      "image/png": "[encoded data removed]",
      "text/plain": [
       "<Figure size 432x288 with 1 Axes>"
      ]
     },
     "metadata": {
      "needs_background": "light"
     },
     "output_type": "display_data"
    },
    {
     "name": "stdout",
     "output_type": "stream",
     "text": [
      "Overlap: 0.6330030005775519\n",
      "mcdropout test set\n"
     ]
    },
    {
     "data": {
      "image/png": "[encoded data removed]",
      "text/plain": [
       "<Figure size 432x288 with 1 Axes>"
      ]
     },
     "metadata": {
      "needs_background": "light"
     },
     "output_type": "display_data"
    },
    {
     "name": "stdout",
     "output_type": "stream",
     "text": [
      "Overlap: 0.7488859985001224\n",
      "lockbox\n"
     ]
    },
    {
     "data": {
      "image/png": "[encoded data removed]",
      "text/plain": [
       "<Figure size 432x288 with 1 Axes>"
      ]
     },
     "metadata": {
      "needs_background": "light"
     },
     "output_type": "display_data"
    },
    {
     "name": "stdout",
     "output_type": "stream",
     "text": [
      "Overlap: 0.6554010643702726\n",
      "standard test set\n"
     ]
    },
    {
     "data": {
      "image/png": "[encoded data removed]",
      "text/plain": [
       "<Figure size 432x288 with 1 Axes>"
      ]
     },
     "metadata": {
      "needs_background": "light"
     },
     "output_type": "display_data"
    },
    {
     "name": "stdout",
     "output_type": "stream",
     "text": [
      "Overlap: 0.7699095559063164\n",
      "lockbox\n"
     ]
    },
    {
     "data": {
      "image/png": "[encoded data removed]",
      "text/plain": [
       "<Figure size 432x288 with 1 Axes>"
      ]
     },
     "metadata": {
      "needs_background": "light"
     },
     "output_type": "display_data"
    },
    {
     "name": "stdout",
     "output_type": "stream",
     "text": [
      "Overlap: 0.687818816110791\n"
     ]
    }
   ],
   "source": [
    "for name, method in methods.items():\n",
    "    print(f'{name} test set')\n",
    "    avg_pred_entropy_plots(method['test'])\n",
    "    print(f'lockbox')\n",
    "    avg_pred_entropy_plots(method['lockbox'])"
   ]
  },
  {
   "cell_type": "markdown",
   "id": "fb7dbf67",
   "metadata": {},
   "source": [
    "### Accuracy-coverage plots\n",
    "These plots are to select a threshold for treating uncertainty as a binary classification task. Once the threshold is selected from the plot, you can compute the uncertainty accuracy, precision, sensitivity, specificity ROC plots and AUROC.\n",
    "\n",
    "So accuracy and coverage will be computed for predictions that are above a certain uncertainty threshold\n",
    "\n",
    "Explanations for very poor entropy based accuracy-coverage plots:\n",
    "Because of high inter-subject variability, the specific model is unable to fully learn subject-independent features, leading to a high degree of epistemic uncertainty (my theory). Maybe I can confirm this by disentangling uncertainty... "
   ]
  },
  {
   "cell_type": "code",
   "execution_count": null,
   "id": "d3233a46",
   "metadata": {},
   "outputs": [],
   "source": [
    "from sklearn.metrics import accuracy_score\n",
    "import matplotlib.pyplot as plt\n",
    "\n",
    "dataset_key = 'test'\n",
    "flag = 'probability'\n",
    "\n",
    "thresholds = np.arange(0, 1.001, 0.001)\n",
    "isEntropy = True\n",
    "if flag == 'probability':\n",
    "    isEntropy = False\n",
    "\n",
    "for name, method in methods.items():\n",
    "    accs = []\n",
    "    coverages = []\n",
    "    y_pred = np.vstack(method[dataset_key]['preds'])\n",
    "    y_true = np.vstack(method[dataset_key]['labels'])\n",
    "    if isEntropy:\n",
    "        unc = predictive_uncertainty(y_pred)\n",
    "    for t in thresholds:\n",
    "        if isEntropy:\n",
    "            accepted_idx = (unc < t)           # Accept samples when uncertainty is BELOW threshold\n",
    "        else:\n",
    "            accepted_idx = y_pred.max(axis=1) > t           # Accept when predicted prob is ABOVE threshold\n",
    "        coverages.append(sum(accepted_idx) / y_pred.shape[0])                           # Coverage: How many samples rejected\n",
    "        acc = accuracy_score(y_pred=y_pred.argmax(axis=1)[accepted_idx], y_true=y_true.argmax(axis=1)[accepted_idx])  # Accuracy of accepted samples\n",
    "        accs.append(acc)\n",
    "\n",
    "    if isEntropy:\n",
    "        coverages = np.flip(np.array(coverages))  # Flip for entropy threshold\n",
    "        accs = np.flip(np.array(accs))\n",
    "    else:\n",
    "        coverages = np.array(coverages)\n",
    "        accs = np.array(accs)\n",
    "\n",
    "    plt.plot(thresholds, accs, color='red', label='accs')\n",
    "    plt.plot(thresholds, coverages, color='green', label='coverage')\n",
    "\n",
    "    plt.title('Coverage and Accuracy vs Threshold')\n",
    "    plt.legend()\n",
    "    # plt.savefig('threshold_plots.png')\n",
    "    plt.show()\n",
    "\n",
    "    # Finding equivalent threshold value\n",
    "    point = np.hstack(np.argwhere(accs > coverages))\n",
    "    print(f'threshold value for {name}: {point[0] * 0.001}\\n acc at threshold: {accs[point[0]]}\\n coverage at threshold: {coverages[point[0]]}')\n",
    "\n"
   ]
  },
  {
   "cell_type": "markdown",
   "metadata": {},
   "source": [
    "# ROC plots"
   ]
  },
  {
   "cell_type": "code",
   "execution_count": 6,
   "metadata": {},
   "outputs": [
    {
     "name": "stdout",
     "output_type": "stream",
     "text": [
      "mcdropconnect: 0.7476512646203973\n",
      "mcdropout: 0.7390167460612107\n",
      "standard: 0.7103795322349503\n"
     ]
    },
    {
     "data": {
      "image/png": "[encoded data removed]",
      "text/plain": [
       "<Figure size 432x288 with 1 Axes>"
      ]
     },
     "metadata": {
      "needs_background": "light"
     },
     "output_type": "display_data"
    }
   ],
   "source": [
    "from sklearn import metrics\n",
    "\n",
    "'''\n",
    "ic, iu, cc, cu\n",
    "incorrect-certain, incorrect-uncertain, correct-certain, correct-uncertain\n",
    "\n",
    "\n",
    "y_true for ROC should be certain if predicted class equals actual class and uncertain otherwise. Should be of shape (n_samples,) and binary labels\n",
    "y_pred for ROC should be just entropies?\n",
    "(normalised_entropy, 1-normalised_entropy)\n",
    "\n",
    "UQ classification: 1->Uncertain     0->Certain\n",
    "'''\n",
    "\n",
    "#  np.argmax(Y_true, axis=axis) == np.argmax(Y_pred, axis=axis)\n",
    "\n",
    "\n",
    "for method, values in methods.items():\n",
    "    y_true = values['lockbox']['labels']\n",
    "    y_pred = predictive_uncertainty(values['lockbox']['preds']).flatten()\n",
    "    # Iterate through entropies and create a new np array of entropies\n",
    "    # (9*576, 2)\n",
    "\n",
    "    # Gets corrects across all subjects as ints. 1: incorrect 0: correct\n",
    "    y_true_roc = (~get_corrects(y_true, values['lockbox']['preds'], axis=-1)).astype(int).flatten()\n",
    "\n",
    "    fpr, tpr, _ = metrics.roc_curve(y_true_roc,  y_pred)\n",
    "    auc = metrics.roc_auc_score(y_true_roc, y_pred)\n",
    "    print(f'{method}: {auc}')\n",
    "    plt.plot(fpr, tpr)\n",
    "    plt.plot([0, 1], [0, 1],'r--')\n",
    "    plt.xlim([0, 1])\n",
    "    plt.ylim([0, 1])\n",
    "\n",
    "plt.show()\n"
   ]
  },
  {
   "cell_type": "markdown",
   "id": "bd7bf6c9",
   "metadata": {},
   "source": [
    "# Disentangling uncertainty"
   ]
  },
  {
   "cell_type": "code",
   "execution_count": null,
   "id": "24928cdd",
   "metadata": {},
   "outputs": [],
   "source": []
  }
 ],
 "metadata": {
  "kernelspec": {
   "display_name": "tf",
   "language": "python",
   "name": "python3"
  },
  "language_info": {
   "codemirror_mode": {
    "name": "ipython",
    "version": 3
   },
   "file_extension": ".py",
   "mimetype": "text/x-python",
   "name": "python",
   "nbconvert_exporter": "python",
   "pygments_lexer": "ipython3",
   "version": "3.9.18"
  }
 },
 "nbformat": 4,
 "nbformat_minor": 5
}
