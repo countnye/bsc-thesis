{
 "cells": [
  {
   "cell_type": "code",
   "execution_count": 2,
   "id": "f82b0ecc",
   "metadata": {},
   "outputs": [
    {
     "name": "stdout",
     "output_type": "stream",
     "text": [
      "env: CUDA_VISIBLE_DEVICES=1\n"
     ]
    }
   ],
   "source": [
    "# Set notebook to use only one GPU\n",
    "%env CUDA_VISIBLE_DEVICES=1"
   ]
  },
  {
   "cell_type": "markdown",
   "id": "bbfa4ddf",
   "metadata": {},
   "source": [
    "# Results Analysis\n",
    "\n",
    "Analyse results\n"
   ]
  },
  {
   "cell_type": "code",
   "execution_count": 3,
   "id": "da8eac33",
   "metadata": {},
   "outputs": [
    {
     "name": "stdout",
     "output_type": "stream",
     "text": [
      "Using TensorFlow backend\n"
     ]
    },
    {
     "name": "stderr",
     "output_type": "stream",
     "text": [
      "Keras Uncertainty will use standalone Keras backend"
     ]
    }
   ],
   "source": [
    "from file_functions import *\n",
    "from models_bachelors import *\n",
    "import plotly.express as px\n",
    "import plotly.figure_factory as ff\n",
    "import pandas as pd\n",
    "from sklearn.metrics import accuracy_score\n",
    "from plotly.subplots import make_subplots\n",
    "import plotly.graph_objects as go\n",
    "\n",
    "standard = {'lockbox': {'labels': 0,\n",
    "                             'preds': 0},\n",
    "            'test':    {'labels': 0,\n",
    "                        'preds': 0}}\n",
    "\n",
    "            \n",
    "# Both are dicts with keys: 'lockbox_preds_lst' and 'preds_lst'. With\n",
    "with h5py.File('predictions_standard.h5', 'r') as file: \n",
    "    for group in file.keys():\n",
    "        for dset in file[group].keys():\n",
    "            standard[dset][group] = file[group][dset][()]   "
   ]
  },
  {
   "cell_type": "code",
   "execution_count": 4,
   "id": "7acc8c55",
   "metadata": {},
   "outputs": [],
   "source": [
    "def get_corrects(Y_true, Y_pred, axis):\n",
    "    return np.argmax(Y_true, axis=axis) == np.argmax(Y_pred, axis=axis)\n",
    "\n",
    "'''\n",
    "Takes as input, a dict of predictions and labels as such:\n",
    "{'preds': np.ndarray, 'labels': np.ndarray}\n",
    "'''\n",
    "def avg_pred_entropy_plots(dataset):\n",
    "    entropy = predictive_uncertainty(dataset['preds'])    # shape: (9,576)\n",
    "    Y_true = dataset['labels']    # shape: (9,576,4)\n",
    "    corrects = get_corrects(Y_true, dataset['preds'], axis=-1) # Get corrects across ALL subjects\n",
    "    entropy_correct = entropy[corrects]\n",
    "    entropy_wrong = entropy[~corrects]\n",
    "    # For distribution plots of predictive entropy\n",
    "    hist_data = [entropy_correct, entropy_wrong]\n",
    "    group_labels = ['Correct', 'Incorrect']\n",
    "    fig = ff.create_distplot(hist_data, group_labels, bin_size=.05)\n",
    "    fig.show()"
   ]
  },
  {
   "cell_type": "markdown",
   "id": "34d765c1",
   "metadata": {},
   "source": [
    "# Rejection use case\n",
    "Makes no sense to use the interpretability usecase for motor imagery data. Maybe it might be useful for determining how parts of a sample contribute to uncertainty and final output.\n",
    "Make the following graphs:\n",
    "- Distribution of Average normalised predictive entropy for incorrect and correct predictions per test subject and lockbox per method. \n",
    "- Accuracy confidence plots for both methods on test and lockbox set."
   ]
  },
  {
   "cell_type": "code",
   "execution_count": 5,
   "id": "32073d3d",
   "metadata": {},
   "outputs": [],
   "source": [
    "methods = {'standard': standard}"
   ]
  },
  {
   "cell_type": "markdown",
   "id": "7c88f768",
   "metadata": {},
   "source": [
    "### Average normalised predictive entropy\n",
    "This snippet generates distributions of average normalised predictive entropy (across all test subjects) for both the test and lockbox set.\n"
   ]
  },
  {
   "cell_type": "code",
   "execution_count": null,
   "id": "19f5a226",
   "metadata": {},
   "outputs": [],
   "source": [
    "for name, method in methods.items():\n",
    "    avg_pred_entropy_plots(method['test'])\n",
    "    avg_pred_entropy_plots(method['lockbox'])"
   ]
  },
  {
   "cell_type": "markdown",
   "id": "fb7dbf67",
   "metadata": {},
   "source": [
    "### Accuracy-coverage plots\n",
    "These plots are to select a threshold for treating uncertainty as a binary classification task. Once the threshold is selected from the plot, you can compute the uncertainty accuracy, precision, sensitivity, specificity ROC plots and AUROC.\n",
    "\n",
    "So accuracy and coverage will be computed for predictions that are above a certain uncertainty threshold\n",
    "\n",
    "Explanations for very poor entropy based accuracy-coverage plots:\n",
    "Because of high inter-subject variability, the specific model is unable to fully learn subject-independent features, leading to a high degree of epistemic uncertainty (my theory). Maybe I can confirm this by disentangling uncertainty... "
   ]
  },
  {
   "cell_type": "code",
   "execution_count": 58,
   "id": "d3233a46",
   "metadata": {},
   "outputs": [
    {
     "name": "stderr",
     "output_type": "stream",
     "text": [
      "/home/pmanivannan/miniconda3/envs/tf/lib/python3.9/site-packages/numpy/lib/function_base.py:520: RuntimeWarning: Mean of empty slice.\n",
      "  avg = a.mean(axis, **keepdims_kw)\n",
      "/home/pmanivannan/miniconda3/envs/tf/lib/python3.9/site-packages/numpy/core/_methods.py:129: RuntimeWarning: invalid value encountered in scalar divide\n",
      "  ret = ret.dtype.type(ret / rcount)\n"
     ]
    },
    {
     "data": {
      "image/png": "[encoded data removed]",
      "text/plain": [
       "<Figure size 432x288 with 1 Axes>"
      ]
     },
     "metadata": {
      "needs_background": "light"
     },
     "output_type": "display_data"
    },
    {
     "name": "stdout",
     "output_type": "stream",
     "text": [
      "threshold value for standard: 0.637\n",
      " acc at threshold: 0.5650837034506321\n"
     ]
    }
   ],
   "source": [
    "from sklearn.metrics import accuracy_score\n",
    "import matplotlib.pyplot as plt\n",
    "\n",
    "thresholds = np.arange(0, 1.001, 0.001)\n",
    "\n",
    "for name, method in methods.items():\n",
    "    accs = []\n",
    "    coverages = []\n",
    "    y_pred = np.vstack(method['test']['preds'])\n",
    "    y_true = np.vstack(method['test']['labels'])\n",
    "    unc = predictive_uncertainty(y_pred)\n",
    "    for t in thresholds:\n",
    "        # accepted_idx = unc > t            # Thresholds against predictive normalised entropy\n",
    "        accepted_idx = y_pred.max(axis=1) > t           # Thresholds against predicted probs...\n",
    "        coverages.append(sum(accepted_idx) / y_test.shape[0])                           # Coverage: How many samples rejected\n",
    "        acc = accuracy_score(y_pred=y_pred.argmax(axis=1)[accepted_idx], y_true=y_true.argmax(axis=1)[accepted_idx])  # Accuracy of accepted samples\n",
    "        accs.append(acc)\n",
    "\n",
    "    coverages = np.array(coverages)\n",
    "    accs = np.array(accs)\n",
    "\n",
    "    plt.plot(thresholds, accs, color='red', label='accs')\n",
    "    plt.plot(thresholds, coverages, color='green', label='coverage')\n",
    "\n",
    "    plt.title('Coverage and Accuracy vs Threshold')\n",
    "    plt.legend()\n",
    "    # plt.savefig('threshold_plots.png')\n",
    "    plt.show()\n",
    "\n",
    "    # Finding equivalent threshold value\n",
    "    point = np.hstack(np.argwhere(accs > coverages))\n",
    "    print(f'threshold value for {name}: {point[0] * 0.001}\\n acc at threshold: {accs[point[0]]}')\n",
    "\n"
   ]
  },
  {
   "cell_type": "markdown",
   "id": "9e96fdcc",
   "metadata": {},
   "source": [
    "# Redundant code\n",
    "This section contains per-subject subplot generation methods. Took a long time to find out how to make distribution subplots in plotly so use it well."
   ]
  },
  {
   "cell_type": "code",
   "execution_count": null,
   "id": "c790b01f",
   "metadata": {},
   "outputs": [],
   "source": [
    "# Avg predictive entropy on test set for both methods\n",
    "# acc_mcdropout = []\n",
    "# acc_mcdropconnect = []\n",
    "acc_standard = []\n",
    "\n",
    "# methods = {'mcdropconnect': mcdropconnect, 'mcdropout':mcdropout, 'standard': standard}\n",
    "methods = {'standard': standard}\n",
    "\n",
    "for name, method in methods.items():\n",
    "    entropy = predictive_uncertainty(method['test']['preds'])    # shape: (9,576)\n",
    "    Y_true = method['test']['labels']    # shape: (9,576,4)\n",
    "    # corrects = np.argmax(Y_true, axis=-1) == np.argmax(method['test']['preds'], axis=-1)    # axis -1 if (9,576,4). Also get corrects across ALL subjects\n",
    "    # entropy_correct = entropy[corrects]\n",
    "    # entropy_wrong = entropy[~corrects]\n",
    "    trues = np.argmax(Y_true, axis=-1)\n",
    "    preds = np.argmax(method['test']['preds'], axis=-1)\n",
    "    # # For distribution plots of predictive entropy\n",
    "    # hist_data = [entropy_correct, entropy_wrong]\n",
    "    # group_labels = ['Correct', 'Incorrect']\n",
    "    # fig = ff.create_distplot(hist_data, group_labels, bin_size=.05)\n",
    "    # fig.show()\n",
    "    fig = make_subplots(rows=3,cols=3, subplot_titles=[f'Subj.{x}' for x in range(0,9)])\n",
    "    for r in range(1,4):\n",
    "        for col in range(1,4):\n",
    "            # World's most convoluted formula for finding out the cell number istg\n",
    "            subj_id = (3 * r) - 4 + col\n",
    "            corrects = np.argmax(Y_true[subj_id], axis=-1) == np.argmax(method['test']['preds'][subj_id], axis=-1)\n",
    "            entropy_correct = entropy[subj_id][corrects]\n",
    "            entropy_wrong = entropy[subj_id][~corrects]\n",
    "            hist_data = [entropy_correct, entropy_wrong]\n",
    "            group_labels = ['Corr.', 'Incorr.']\n",
    "            sub = ff.create_distplot(hist_data, group_labels, bin_size=0.05)\n",
    "            for trace in sub.select_traces(3):\n",
    "                fig.add_trace(trace, row=r, col=col)\n",
    "            for trace in sub.select_traces(2):\n",
    "                fig.add_trace(trace, row=r, col=col)\n",
    "\n",
    "    fig.show()\n",
    "    for idx, subject in enumerate(trues):\n",
    "        acc = accuracy_score(y_true=subject, y_pred=preds[idx], normalize=True)\n",
    "        if name == 'mcdropconnect':\n",
    "            acc_mcdropconnect.append(acc)\n",
    "        elif name == 'mcdropout':\n",
    "            acc_mcdropout.append(acc)\n",
    "        else:\n",
    "            acc_standard.append(acc)\n",
    "\n",
    "print(f'acc_mcdropconnect:{np.mean(acc_mcdropconnect)}')\n",
    "print(f'acc_mcdropout:{np.mean(acc_mcdropout)}')\n",
    "print(f'acc_std:{np.mean(acc_standard)}')\n",
    "        "
   ]
  },
  {
   "cell_type": "code",
   "execution_count": null,
   "id": "2cec1874",
   "metadata": {},
   "outputs": [],
   "source": [
    "\n",
    "# I wanna see what entropy is like for a standard model\n",
    "entropy = uncertainty(Y_preds)\n",
    "corrects = np.argmax(Y_true, axis=1) == np.argmax(Y_preds, axis=1)\n",
    "entropy_correct = entropy_preds[corrects]\n",
    "entropy_wrong = entropy_preds[~corrects]\n",
    "\n",
    "# Combined distribution of entropy for correct and incorrect predictions\n",
    "hist_data = [entropy_correct, entropy_wrong]\n",
    "group_labels = ['Correct', 'Incorrect']\n",
    "\n",
    "fig = ff.create_distplot(hist_data, group_labels, bin_size=.2)\n",
    "fig.show()\n",
    "            "
   ]
  }
 ],
 "metadata": {
  "kernelspec": {
   "display_name": "tf",
   "language": "python",
   "name": "python3"
  },
  "language_info": {
   "codemirror_mode": {
    "name": "ipython",
    "version": 3
   },
   "file_extension": ".py",
   "mimetype": "text/x-python",
   "name": "python",
   "nbconvert_exporter": "python",
   "pygments_lexer": "ipython3",
   "version": "3.9.18"
  }
 },
 "nbformat": 4,
 "nbformat_minor": 5
}
