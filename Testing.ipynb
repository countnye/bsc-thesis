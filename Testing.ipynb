{
 "cells": [
  {
   "cell_type": "markdown",
   "id": "bbfa4ddf",
   "metadata": {},
   "source": [
    "# Testing\n",
    "\n",
    "Generate and save Y_pred for both methods\n"
   ]
  },
  {
   "cell_type": "code",
   "execution_count": 1,
   "id": "f82b0ecc",
   "metadata": {},
   "outputs": [
    {
     "name": "stdout",
     "output_type": "stream",
     "text": [
      "env: CUDA_VISIBLE_DEVICES=1\n"
     ]
    }
   ],
   "source": [
    "# Set notebook to use only one GPU\n",
    "%env CUDA_VISIBLE_DEVICES=1"
   ]
  },
  {
   "cell_type": "code",
   "execution_count": 3,
   "id": "da8eac33",
   "metadata": {},
   "outputs": [
    {
     "name": "stderr",
     "output_type": "stream",
     "text": [
      "Keras Uncertainty will use standalone Keras backend"
     ]
    }
   ],
   "source": [
    "from file_functions import *\n",
    "from file_functions import *\n",
    "import plotly.express as px\n",
    "import plotly.figure_factory as ff\n",
    "import pandas as pd\n",
    "from keras_uncertainty.models import StochasticClassifier\n",
    "\n",
    "dataset = load('all_subject_runs')\n",
    "loaded_inputs = dataset['inputs']\n",
    "loaded_targets = dataset['targets']"
   ]
  },
  {
   "cell_type": "markdown",
   "id": "ab601a8f",
   "metadata": {},
   "source": [
    "Get the hypermodels for both methods (the models with the optimum drop_rates). What to do, I'm stuck with loading a hypermodel because the model functions take a keras_tuner HyperParameter object as input and I don't want to create ANOTHER function for model creation."
   ]
  },
  {
   "cell_type": "code",
   "execution_count": null,
   "id": "bf3d51c3",
   "metadata": {},
   "outputs": [],
   "source": []
  },
  {
   "cell_type": "markdown",
   "id": "6f2043e2",
   "metadata": {},
   "source": [
    "# To-do:\n",
    "\n",
    "Result saving:\n",
    "- For each method, get the predictions and entropy on test and lockboxed test set. \n",
    "- Save all the predictions to a file.\n",
    "\n",
    "Result analysis:\n",
    "- "
   ]
  },
  {
   "cell_type": "code",
   "execution_count": null,
   "id": "34108bc2",
   "metadata": {},
   "outputs": [],
   "source": [
    "methods = \n",
    "\n",
    "checkpoint_path = f'{directory}/test_subject_{subject_id}.ckpt'\n",
    "\n",
    "for method in methods:\n",
    "    directory = f'{method}/weights'\n",
    "\n",
    "method = 'standard'\n",
    "\n",
    "directory = f'weights/{method}'\n",
    "# Get predictions for each subject\n",
    "for subject_id in range(0, 9):\n",
    "    X_test = loaded_inputs[subject_id]\n",
    "    Y_true = loaded_targets[subject_id]\n",
    "    checkpoint_path = f'{directory}/test_subject_{subject_id}.ckpt'\n",
    "    model = create_model(method, checkpoint_path)\n",
    "    if method is not 'standard':\n",
    "        model = StochasticClassifier(model)\n",
    "        Y_preds = model(X_test, num_samples=50)\n",
    "    else:\n",
    "        Y_preds = model(X_test)\n",
    "\n",
    "    # I wanna see what entropy is like for a standard model\n",
    "    entropy = uncertainty(Y_preds)\n",
    "    corrects = np.argmax(Y_true, axis=1) == np.argmax(Y_preds, axis=1)\n",
    "    entropy_correct = entropy_preds[corrects]\n",
    "    entropy_wrong = entropy_preds[~corrects]\n",
    "\n",
    "    # Combined distribution of entropy for correct and incorrect predictions\n",
    "    hist_data = [entropy_correct, entropy_wrong]\n",
    "    group_labels = ['Correct', 'Incorrect']\n",
    "\n",
    "    fig = ff.create_distplot(hist_data, group_labels, bin_size=.2)\n",
    "    fig.show()\n",
    "             "
   ]
  },
  {
   "cell_type": "markdown",
   "id": "34d765c1",
   "metadata": {},
   "source": [
    "# All methods"
   ]
  },
  {
   "cell_type": "code",
   "execution_count": null,
   "id": "3e1c5532",
   "metadata": {},
   "outputs": [],
   "source": [
    "methods = ['standard', 'mcdropout', 'mcdropconnect']\n",
    "\n",
    "for method in methods:\n",
    "    directory = f'weights/{method}'\n",
    "    # Get predictions for each subject\n",
    "    for subject_id in range(0, 9):\n",
    "        X_test = loaded_inputs[subject_id]\n",
    "        Y_true = loaded_targets[subject_id]\n",
    "        checkpoint_path = f'{directory}/test_subject_{subject_id}.ckpt'\n",
    "        model = create_model(method, checkpoint_path)\n",
    "        if method is not 'standard':\n",
    "            model = StochasticClassifier(model)\n",
    "            Y_preds = model(X_test, num_samples=50)\n",
    "        else:\n",
    "            Y_preds = model(X_test)\n",
    "        \n",
    "        # I wanna see what entropy is like for a standard model\n",
    "        entropy = uncertainty(Y_preds)\n",
    "        corrects = np.argmax(Y_true, axis=1) == np.argmax(Y_preds, axis=1)\n",
    "             "
   ]
  },
  {
   "cell_type": "code",
   "execution_count": null,
   "id": "2cec1874",
   "metadata": {},
   "outputs": [],
   "source": [
    "entropy_correct = entropy_preds[corrects]\n",
    "entropy_wrong = entropy_preds[~corrects]\n",
    "\n",
    "# Combined distribution of entropy for correct and incorrect predictions\n",
    "hist_data = [entropy_correct, entropy_wrong]\n",
    "group_labels = ['Correct', 'Incorrect']\n",
    "\n",
    "fig = ff.create_distplot(hist_data, group_labels, bin_size=.2)\n",
    "fig.show()"
   ]
  }
 ],
 "metadata": {
  "kernelspec": {
   "display_name": "tf",
   "language": "python",
   "name": "python3"
  },
  "language_info": {
   "codemirror_mode": {
    "name": "ipython",
    "version": 3
   },
   "file_extension": ".py",
   "mimetype": "text/x-python",
   "name": "python",
   "nbconvert_exporter": "python",
   "pygments_lexer": "ipython3",
   "version": "3.9.18"
  }
 },
 "nbformat": 4,
 "nbformat_minor": 5
}
