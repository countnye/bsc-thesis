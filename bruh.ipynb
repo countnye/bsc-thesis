{
 "cells": [
  {
   "cell_type": "code",
   "execution_count": 1,
   "metadata": {},
   "outputs": [
    {
     "name": "stdout",
     "output_type": "stream",
     "text": [
      "env: CUDA_VISIBLE_DEVICES=0\n"
     ]
    }
   ],
   "source": [
    "# Set notebook to use only one GPU\n",
    "%env CUDA_VISIBLE_DEVICES=0"
   ]
  },
  {
   "cell_type": "code",
   "execution_count": 3,
   "metadata": {},
   "outputs": [
    {
     "name": "stdout",
     "output_type": "stream",
     "text": [
      "Reloading Tuner from mcdropout/tuning/f{method}/tuner0.json\n",
      "Reloading Tuner from mcdropconnect/tuning/mcdropconnect/tuner0.json\n"
     ]
    }
   ],
   "source": [
    "import sys, os\n",
    "os.environ[\"CUDA_VISIBLE_DEVICES\"]=\"0\"\n",
    "\n",
    "os.environ['TF_CPP_MIN_LOG_LEVEL'] = '3' \n",
    "\n",
    "from file_functions import *\n",
    "from models_bachelors import *\n",
    "import plotly.express as px\n",
    "import plotly.figure_factory as ff\n",
    "import pandas as pd\n",
    "from keras_uncertainty.models import StochasticClassifier\n",
    "\n",
    "dataset = load('all_subject_runs_no_preprocess')\n",
    "loaded_inputs = dataset['inputs']\n",
    "loaded_targets = dataset['targets']\n",
    "'''\n",
    "Loads a dictionary with 2 keys: 'inputs', 'targets'. \n",
    "Both keys have ndarray containing inputs and targets\n",
    "of 9 subjects separated by subject.\n",
    "'''\n",
    "lockbox = load('lockbox')['data']\n",
    "predictions = {'mcdropout': \n",
    "               {'test': {'preds':[], 'labels':[]}, \n",
    "                'lockbox':{'preds':[], 'labels':[]}},\n",
    "                'mcdropconnect': \n",
    "               {'test': {'preds':[], 'labels':[]}, \n",
    "                'lockbox':{'preds':[], 'labels':[]}},\n",
    "                'standard':\n",
    "               {'test': {'preds':[], 'labels':[]}, \n",
    "                'lockbox':{'preds':[], 'labels':[]}}\n",
    "              }\n",
    "\n",
    "\n",
    "'''\n",
    "Load best hyperparams\n",
    "'''\n",
    "dropout_best_hps, dropconnect_best_hps = load_tuned_models()\n",
    "subject_ids = [0, 1, 2, 3, 4, 5, 6, 7, 8]"
   ]
  },
  {
   "cell_type": "code",
   "execution_count": 4,
   "metadata": {},
   "outputs": [],
   "source": [
    "from multiprocessing import Pool\n",
    "\n",
    "\n",
    "def _apply_df(model, data):\n",
    "    return  model.predict(data, num_samples=50, batch_size=100)\n",
    "\n",
    "\n",
    "def apply_by_multiprocessing(data, model, workers):\n",
    "    pool = Pool(processes=workers)\n",
    "    result = pool.map(_apply_df, np.array_split(data, workers))\n",
    "    pool.close()\n",
    "    return list(result)"
   ]
  },
  {
   "cell_type": "code",
   "execution_count": null,
   "metadata": {},
   "outputs": [],
   "source": [
    "\n",
    "# For each method, get preds and labels for each test subject\n",
    "# and their corresponding lockbox set.\n",
    "for method, values in predictions.items():\n",
    "    print(f'{method}')\n",
    "    if method == 'standard':\n",
    "        wts_directory = f'mcdropout/weights'\n",
    "    else:\n",
    "      wts_directory = f'{method}/weights'\n",
    "    # Iterate through test subjects\n",
    "    for test_subject_id in range(0, 9):\n",
    "        print(f'test subject {test_subject_id}')\n",
    "        train_subj_ids = [x for x in subject_ids if x != test_subject_id]\n",
    "        X_test = loaded_inputs[test_subject_id]\n",
    "        Y_true = loaded_targets[test_subject_id]\n",
    "        # Train set is sent in because lockbox is returned from the train set not the whole dataset.\n",
    "        # This is because lockbox shape: (9, 8, 57) and inputs shape: (9, 576, 22, 1125)\n",
    "        # Axis 0 are test_subj_ids and axis 1 are the train_subject_ids.\n",
    "        # The function assumes that shape[0] of lockbox[test_subj_id] and shape[0] of\n",
    "        # inputs is the same: 8.\n",
    "        X_lock, Y_lock = get_lockbox_data(loaded_inputs[train_subj_ids], loaded_targets[train_subj_ids], lockbox[test_subject_id])\n",
    "        wts_path = checkpoint_path = f'{wts_directory}/test_subject_{test_subject_id}.ckpt'\n",
    "        if method == 'mcdropout':\n",
    "            model = build_dropout_model(dropout_best_hps)\n",
    "        elif method == 'mcdropconnect':\n",
    "            model = build_dropconnect_model(dropconnect_best_hps)\n",
    "        else:\n",
    "            model = build_standard_model(dropout_best_hps)\n",
    "        \n",
    "        model.load_weights(wts_path)\n",
    "        # Get Y_preds for test subject\n",
    "        if method != 'standard':\n",
    "            model = StochasticClassifier(model)\n",
    "            Y_preds = apply_by_multiprocessing(data=X_test, model=model, workers=3)\n",
    "            # Get lockboxed Y_preds for test subject\n",
    "            lockbox_Y_preds = model.predict(X_lock, num_samples=50, batch_size=100)\n",
    "        else:\n",
    "            Y_preds = model(X_test, batch_size=100, training=False)\n",
    "            # Get lockboxed Y_preds for test subject\n",
    "            lockbox_Y_preds = model(X_lock, batch_size=100, training=False)\n",
    "\n",
    "        lockbox_Y_true = Y_lock\n",
    "        values['test']['preds'].append(Y_preds)\n",
    "        values['test']['labels'].append(Y_true)\n",
    "        values['lockbox']['preds'].append(lockbox_Y_preds)\n",
    "        values['lockbox']['labels'].append(lockbox_Y_true)"
   ]
  },
  {
   "cell_type": "code",
   "execution_count": null,
   "metadata": {},
   "outputs": [],
   "source": [
    "for method, values in predictions.items():\n",
    "    values['test']['preds'] = np.array(values['test']['preds'])\n",
    "    values['test']['labels'] = np.array(values['test']['labels'])\n",
    "    values['lockbox']['test'] = np.array(values['lockbox']['test'])\n",
    "    values['lockbox']['labels'] = np.array(values['lockbox']['labels'])\n",
    "\n",
    "dict2hdf5('predictions_speedup_test.h5', predictions)"
   ]
  }
 ],
 "metadata": {
  "kernelspec": {
   "display_name": "Python 3",
   "language": "python",
   "name": "python3"
  },
  "language_info": {
   "codemirror_mode": {
    "name": "ipython",
    "version": 3
   },
   "file_extension": ".py",
   "mimetype": "text/x-python",
   "name": "python",
   "nbconvert_exporter": "python",
   "pygments_lexer": "ipython3",
   "version": "3.9.18"
  }
 },
 "nbformat": 4,
 "nbformat_minor": 2
}
