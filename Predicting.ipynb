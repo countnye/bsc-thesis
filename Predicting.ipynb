{
 "cells": [
  {
   "cell_type": "markdown",
   "id": "bbfa4ddf",
   "metadata": {},
   "source": [
    "# Predicting\n",
    "\n",
    "Generate and save Y_pred for both methods\n"
   ]
  },
  {
   "cell_type": "code",
   "execution_count": 1,
   "id": "f82b0ecc",
   "metadata": {},
   "outputs": [
    {
     "name": "stdout",
     "output_type": "stream",
     "text": [
      "env: CUDA_VISIBLE_DEVICES=0\n"
     ]
    }
   ],
   "source": [
    "# Set notebook to use only one GPU\n",
    "%env CUDA_VISIBLE_DEVICES=0"
   ]
  },
  {
   "cell_type": "code",
   "execution_count": 2,
   "id": "da8eac33",
   "metadata": {},
   "outputs": [
    {
     "name": "stdout",
     "output_type": "stream",
     "text": [
      "Using TensorFlow backend\n"
     ]
    },
    {
     "name": "stderr",
     "output_type": "stream",
     "text": [
      "Keras Uncertainty will use standalone Keras backend"
     ]
    }
   ],
   "source": [
    "from file_functions import *\n",
    "from models_bachelors import *\n",
    "import plotly.express as px\n",
    "import plotly.figure_factory as ff\n",
    "import pandas as pd\n",
    "from keras_uncertainty.models import StochasticClassifier\n",
    "\n",
    "dataset = load('all_subject_runs')\n",
    "loaded_inputs = dataset['inputs']\n",
    "loaded_targets = dataset['targets']\n",
    "'''\n",
    "Loads a dictionary with 2 keys: 'inputs', 'targets'. \n",
    "Both keys have ndarray containing inputs and targets\n",
    "of 9 subjects separated by subject.\n",
    "'''\n",
    "lockbox = load('lockbox')"
   ]
  },
  {
   "cell_type": "markdown",
   "id": "6f2043e2",
   "metadata": {},
   "source": [
    "# To-do:\n",
    "\n",
    "This code was originally intended to save both methods predictions. But MCDropout had to undergo training again because turns out it was actually MCDropConnect being trained 💀💀💀. So now the code only works when methods has a single element."
   ]
  },
  {
   "cell_type": "code",
   "execution_count": 3,
   "id": "34108bc2",
   "metadata": {},
   "outputs": [
    {
     "ename": "ResourceExhaustedError",
     "evalue": "Exception encountered when calling layer 'conv2d' (type Conv2D).\n\n{{function_node __wrapped__Conv2D_device_/job:localhost/replica:0/task:0/device:GPU:0}} OOM when allocating tensor with shape[576,22,1125,25] and type float on /job:localhost/replica:0/task:0/device:GPU:0 by allocator GPU_0_bfc [Op:Conv2D]\n\nCall arguments received by layer 'conv2d' (type Conv2D):\n  • inputs=tf.Tensor(shape=(576, 22, 1125, 1), dtype=float32)",
     "output_type": "error",
     "traceback": [
      "\u001b[0;31m---------------------------------------------------------------------------\u001b[0m",
      "\u001b[0;31mResourceExhaustedError\u001b[0m                    Traceback (most recent call last)",
      "\u001b[1;32m/home/pmanivannan/bsc-thesis/Predicting.ipynb Cell 5\u001b[0m line \u001b[0;36m1\n\u001b[1;32m     <a href='vscode-notebook-cell://ssh-remote%2B7b22686f73744e616d65223a22576f726b73746174696f6e227d/home/pmanivannan/bsc-thesis/Predicting.ipynb#X14sdnNjb2RlLXJlbW90ZQ%3D%3D?line=16'>17</a>\u001b[0m \u001b[39mif\u001b[39;00m method \u001b[39m!=\u001b[39m \u001b[39m'\u001b[39m\u001b[39mstandard\u001b[39m\u001b[39m'\u001b[39m:\n\u001b[1;32m     <a href='vscode-notebook-cell://ssh-remote%2B7b22686f73744e616d65223a22576f726b73746174696f6e227d/home/pmanivannan/bsc-thesis/Predicting.ipynb#X14sdnNjb2RlLXJlbW90ZQ%3D%3D?line=17'>18</a>\u001b[0m     model \u001b[39m=\u001b[39m StochasticClassifier(model)\n\u001b[0;32m---> <a href='vscode-notebook-cell://ssh-remote%2B7b22686f73744e616d65223a22576f726b73746174696f6e227d/home/pmanivannan/bsc-thesis/Predicting.ipynb#X14sdnNjb2RlLXJlbW90ZQ%3D%3D?line=18'>19</a>\u001b[0m     Y_preds \u001b[39m=\u001b[39m model(X_test, num_samples\u001b[39m=\u001b[39;49m\u001b[39m50\u001b[39;49m)\n\u001b[1;32m     <a href='vscode-notebook-cell://ssh-remote%2B7b22686f73744e616d65223a22576f726b73746174696f6e227d/home/pmanivannan/bsc-thesis/Predicting.ipynb#X14sdnNjb2RlLXJlbW90ZQ%3D%3D?line=19'>20</a>\u001b[0m     \u001b[39m# Get lockboxed Y_preds for test subject\u001b[39;00m\n\u001b[1;32m     <a href='vscode-notebook-cell://ssh-remote%2B7b22686f73744e616d65223a22576f726b73746174696f6e227d/home/pmanivannan/bsc-thesis/Predicting.ipynb#X14sdnNjb2RlLXJlbW90ZQ%3D%3D?line=20'>21</a>\u001b[0m     lockbox_Y_preds \u001b[39m=\u001b[39m model(lockbox[\u001b[39m'\u001b[39m\u001b[39minputs\u001b[39m\u001b[39m'\u001b[39m][subject_id], num_samples\u001b[39m=\u001b[39m\u001b[39m50\u001b[39m)\n",
      "File \u001b[0;32m~/miniconda3/envs/tf/lib/python3.9/site-packages/keras_uncertainty/models/stochastic_model.py:109\u001b[0m, in \u001b[0;36mStochasticClassifier.__call__\u001b[0;34m(self, inputs, num_samples, **kwargs)\u001b[0m\n\u001b[1;32m    108\u001b[0m \u001b[39mdef\u001b[39;00m \u001b[39m__call__\u001b[39m(\u001b[39mself\u001b[39m, inputs, num_samples\u001b[39m=\u001b[39m\u001b[39mNone\u001b[39;00m, \u001b[39m*\u001b[39m\u001b[39m*\u001b[39mkwargs):\n\u001b[0;32m--> 109\u001b[0m     samples \u001b[39m=\u001b[39m \u001b[39mself\u001b[39;49m\u001b[39m.\u001b[39;49mcall_samples(inputs, num_samples, multi_output\u001b[39m=\u001b[39;49m\u001b[39mself\u001b[39;49m\u001b[39m.\u001b[39;49mmulti_output, \u001b[39m*\u001b[39;49m\u001b[39m*\u001b[39;49mkwargs)\n\u001b[1;32m    111\u001b[0m     \u001b[39mif\u001b[39;00m \u001b[39mself\u001b[39m\u001b[39m.\u001b[39mmulti_output:\n\u001b[1;32m    112\u001b[0m         outputs \u001b[39m=\u001b[39m []\n",
      "File \u001b[0;32m~/miniconda3/envs/tf/lib/python3.9/site-packages/keras_uncertainty/models/stochastic_model.py:51\u001b[0m, in \u001b[0;36mStochasticModel.call_samples\u001b[0;34m(self, x, num_samples, multi_output, **kwargs)\u001b[0m\n\u001b[1;32m     48\u001b[0m samples \u001b[39m=\u001b[39m [\u001b[39mNone\u001b[39;00m] \u001b[39m*\u001b[39m num_samples\n\u001b[1;32m     50\u001b[0m \u001b[39mfor\u001b[39;00m i \u001b[39min\u001b[39;00m \u001b[39mrange\u001b[39m(num_samples):\n\u001b[0;32m---> 51\u001b[0m     samples[i] \u001b[39m=\u001b[39m \u001b[39mself\u001b[39;49m\u001b[39m.\u001b[39;49mmodel(x, \u001b[39m*\u001b[39;49m\u001b[39m*\u001b[39;49mkwargs)\n\u001b[1;32m     53\u001b[0m \u001b[39mreturn\u001b[39;00m K\u001b[39m.\u001b[39mvariable(samples)\n",
      "File \u001b[0;32m~/miniconda3/envs/tf/lib/python3.9/site-packages/keras/utils/traceback_utils.py:70\u001b[0m, in \u001b[0;36mfilter_traceback.<locals>.error_handler\u001b[0;34m(*args, **kwargs)\u001b[0m\n\u001b[1;32m     67\u001b[0m     filtered_tb \u001b[39m=\u001b[39m _process_traceback_frames(e\u001b[39m.\u001b[39m__traceback__)\n\u001b[1;32m     68\u001b[0m     \u001b[39m# To get the full stack trace, call:\u001b[39;00m\n\u001b[1;32m     69\u001b[0m     \u001b[39m# `tf.debugging.disable_traceback_filtering()`\u001b[39;00m\n\u001b[0;32m---> 70\u001b[0m     \u001b[39mraise\u001b[39;00m e\u001b[39m.\u001b[39mwith_traceback(filtered_tb) \u001b[39mfrom\u001b[39;00m \u001b[39mNone\u001b[39;00m\n\u001b[1;32m     71\u001b[0m \u001b[39mfinally\u001b[39;00m:\n\u001b[1;32m     72\u001b[0m     \u001b[39mdel\u001b[39;00m filtered_tb\n",
      "File \u001b[0;32m~/miniconda3/envs/tf/lib/python3.9/site-packages/tensorflow/python/framework/ops.py:7262\u001b[0m, in \u001b[0;36mraise_from_not_ok_status\u001b[0;34m(e, name)\u001b[0m\n\u001b[1;32m   7260\u001b[0m \u001b[39mdef\u001b[39;00m \u001b[39mraise_from_not_ok_status\u001b[39m(e, name):\n\u001b[1;32m   7261\u001b[0m   e\u001b[39m.\u001b[39mmessage \u001b[39m+\u001b[39m\u001b[39m=\u001b[39m (\u001b[39m\"\u001b[39m\u001b[39m name: \u001b[39m\u001b[39m\"\u001b[39m \u001b[39m+\u001b[39m name \u001b[39mif\u001b[39;00m name \u001b[39mis\u001b[39;00m \u001b[39mnot\u001b[39;00m \u001b[39mNone\u001b[39;00m \u001b[39melse\u001b[39;00m \u001b[39m\"\u001b[39m\u001b[39m\"\u001b[39m)\n\u001b[0;32m-> 7262\u001b[0m   \u001b[39mraise\u001b[39;00m core\u001b[39m.\u001b[39m_status_to_exception(e) \u001b[39mfrom\u001b[39;00m \u001b[39mNone\u001b[39;00m\n",
      "\u001b[0;31mResourceExhaustedError\u001b[0m: Exception encountered when calling layer 'conv2d' (type Conv2D).\n\n{{function_node __wrapped__Conv2D_device_/job:localhost/replica:0/task:0/device:GPU:0}} OOM when allocating tensor with shape[576,22,1125,25] and type float on /job:localhost/replica:0/task:0/device:GPU:0 by allocator GPU_0_bfc [Op:Conv2D]\n\nCall arguments received by layer 'conv2d' (type Conv2D):\n  • inputs=tf.Tensor(shape=(576, 22, 1125, 1), dtype=float32)"
     ]
    }
   ],
   "source": [
    "predictions = {'mcdropout': {'preds_lst': [], 'lockbox_preds_lst': []},\n",
    "                'mcdropconnect': {'preds_lst': [], 'lockbox_preds_lst': []}\n",
    "              }\n",
    "\n",
    "for method, values in predictions.items():\n",
    "    wts_directory = f'{method}/weights'\n",
    "    # For each subject, get Y_preds for the test subject, and also get the \n",
    "    # Y_preds for the lockboxed data. Then save\n",
    "    # Y preds for each subject would be shape (456, 4)\n",
    "    for subject_id in range(0, 9):\n",
    "        X_test = loaded_inputs[subject_id]\n",
    "        Y_test = loaded_targets[subject_id]\n",
    "        wts_path = checkpoint_path = f'{wts_directory}/test_subject_{subject_id}.ckpt'\n",
    "        model = create_model(method=method, drop_rates=0.2)\n",
    "        model.load_weights(wts_path)\n",
    "        # Get Y_preds for test subject\n",
    "        if method != 'standard':\n",
    "            model = StochasticClassifier(model)\n",
    "            Y_preds = model(X_test, num_samples=50)\n",
    "            # Get lockboxed Y_preds for test subject\n",
    "            lockbox_Y_preds = model(lockbox['inputs'][subject_id], num_samples=50)\n",
    "        else:\n",
    "            Y_preds = model.predict(X_test)\n",
    "            # Get lockboxed Y_preds for test subject\n",
    "            lockbox_Y_preds = model(lockbox['inputs'][subject_id])\n",
    "\n",
    "        '''\n",
    "          Must append Y_true for both cases too!\n",
    "        '''\n",
    "        values['preds_lst'].append(Y_preds)\n",
    "        values['lockbox_preds_lst'].append(lockbox_Y_preds)\n",
    "\n"
   ]
  },
  {
   "cell_type": "code",
   "execution_count": null,
   "id": "becb35aa",
   "metadata": {},
   "outputs": [],
   "source": [
    "for method, values in predictions.items():\n",
    "    values['preds_lst'] = np.array(np.array(values['preds_lst']))\n",
    "    values['lockbox_preds_lst'] = np.array(values['lockbox_preds_lst'])\n",
    "\n",
    "save('mcdropout/predictions_mcdropout', predictions['mcdropout'])\n",
    "save('mcdropconnect/predictions_mcdropconnect', predictions['mcdropconnect'])\n"
   ]
  }
 ],
 "metadata": {
  "kernelspec": {
   "display_name": "tf",
   "language": "python",
   "name": "python3"
  },
  "language_info": {
   "codemirror_mode": {
    "name": "ipython",
    "version": 3
   },
   "file_extension": ".py",
   "mimetype": "text/x-python",
   "name": "python",
   "nbconvert_exporter": "python",
   "pygments_lexer": "ipython3",
   "version": "3.9.18"
  }
 },
 "nbformat": 4,
 "nbformat_minor": 5
}
