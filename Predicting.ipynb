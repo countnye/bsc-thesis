{
 "cells": [
  {
   "cell_type": "code",
   "execution_count": 1,
   "id": "f82b0ecc",
   "metadata": {},
   "outputs": [
    {
     "name": "stdout",
     "output_type": "stream",
     "text": [
      "env: CUDA_VISIBLE_DEVICES=1\n"
     ]
    }
   ],
   "source": [
    "# Set notebook to use only one GPU\n",
    "%env CUDA_VISIBLE_DEVICES=1"
   ]
  },
  {
   "cell_type": "markdown",
   "id": "bbfa4ddf",
   "metadata": {},
   "source": [
    "# Predicting\n",
    "\n",
    "Generate and save Y_pred for both methods\n"
   ]
  },
  {
   "cell_type": "code",
   "execution_count": 2,
   "id": "da8eac33",
   "metadata": {},
   "outputs": [
    {
     "name": "stdout",
     "output_type": "stream",
     "text": [
      "Using TensorFlow backend\n"
     ]
    },
    {
     "name": "stderr",
     "output_type": "stream",
     "text": [
      "Keras Uncertainty will use standalone Keras backend"
     ]
    }
   ],
   "source": [
    "from file_functions import *\n",
    "from models_bachelors import *\n",
    "import plotly.express as px\n",
    "import plotly.figure_factory as ff\n",
    "import pandas as pd\n",
    "from keras_uncertainty.models import StochasticClassifier\n",
    "\n",
    "dataset = load('all_subject_runs')\n",
    "loaded_inputs = dataset['inputs']\n",
    "loaded_targets = dataset['targets']\n",
    "'''\n",
    "Loads a dictionary with 2 keys: 'inputs', 'targets'. \n",
    "Both keys have ndarray containing inputs and targets\n",
    "of 9 subjects separated by subject.\n",
    "'''\n",
    "lockbox = load('lockbox')"
   ]
  },
  {
   "cell_type": "markdown",
   "id": "6f2043e2",
   "metadata": {},
   "source": [
    "# To-do:\n",
    "\n",
    "This code was originally intended to save both methods predictions. But MCDropout had to undergo training again because turns out it was actually MCDropConnect being trained 💀💀💀. So now the code only works when methods has a single element."
   ]
  },
  {
   "cell_type": "code",
   "execution_count": null,
   "id": "34108bc2",
   "metadata": {},
   "outputs": [
    {
     "name": "stdout",
     "output_type": "stream",
     "text": [
      " 4/18 [=====>........................] - ETA: 1s"
     ]
    }
   ],
   "source": [
    "# predictions = {'mcdropout': \n",
    "#                {'preds': {'test':[], 'lockbox':[]}, \n",
    "#                 'labels':{'test':[], 'lockbox':[]}},\n",
    "#                 'mcdropconnect': \n",
    "#                 {'preds': {'test':[], 'lockbox':[]}, \n",
    "#                 'labels':{'test':[], 'lockbox':[]}},\n",
    "#                 'standard':\n",
    "#                 {'preds': {'test':[], 'lockbox':[]}, \n",
    "#                 'labels':{'test':[], 'lockbox':[]}}\n",
    "#               }\n",
    "predictions = {'standard':\n",
    "                {'preds': {'test':[], 'lockbox':[]}, \n",
    "                'labels':{'test':[], 'lockbox':[]}}\n",
    "              }\n",
    "\n",
    "for method, values in predictions.items():\n",
    "    # standard model uses same weights as MCDropout because\n",
    "    # standard model is just MCDropout but dropout disabled\n",
    "    # at test time.\n",
    "    if method == 'standard':\n",
    "        wts_directory = f'mcdropout/weights'\n",
    "    else:\n",
    "      wts_directory = f'{method}/weights'\n",
    "    # For each subject, get Y_preds for the test subject, and also get the \n",
    "    # Y_preds for the lockboxed data. Then save\n",
    "    # Y preds for each subject would be shape (456, 4)\n",
    "    for subject_id in range(0, 9):\n",
    "        X_test = loaded_inputs[subject_id][~lockbox[subject_id]]\n",
    "        Y_true = loaded_targets[subject_id][~lockbox[subject_id]]\n",
    "        X_lock = loaded_inputs[subject_id][lockbox[subject_id]]\n",
    "        Y_lock = loaded_targets[subject_id][lockbox[subject_id]]\n",
    "        wts_path = checkpoint_path = f'{wts_directory}/test_subject_{subject_id}.ckpt'\n",
    "        model = create_model(method=method, drop_rates=0.2)\n",
    "        model.load_weights(wts_path)\n",
    "        # Get Y_preds for test subject\n",
    "        if method != 'standard':\n",
    "            model = StochasticClassifier(model)\n",
    "            Y_preds = model(X_test, num_samples=50)\n",
    "            # Get lockboxed Y_preds for test subject\n",
    "            lockbox_Y_preds = model(X_lock, num_samples=50)\n",
    "        else:\n",
    "            Y_preds = model.predict(X_test)\n",
    "            # Get lockboxed Y_preds for test subject\n",
    "            lockbox_Y_preds = model(X_lock)\n",
    "\n",
    "        '''\n",
    "          Must append Y_true for both cases too!\n",
    "        '''\n",
    "        lockbox_Y_true = lockbox['targets'][subject_id]\n",
    "        values['preds']['test'].append(Y_preds)\n",
    "        values['preds']['lockbox'].append(lockbox_Y_preds)\n",
    "        values['labels']['test'].append(Y_true)\n",
    "        values['labels']['lockbox'].append(lockbox_Y_true)"
   ]
  },
  {
   "cell_type": "code",
   "execution_count": null,
   "id": "becb35aa",
   "metadata": {},
   "outputs": [],
   "source": [
    "for method, values in predictions.items():\n",
    "    values['preds']['test'] = np.array(values['preds']['test'])\n",
    "    values['preds']['lockbox'] = np.array(values['preds']['lockbox'])\n",
    "    values['labels']['test'] = np.array(values['labels']['test'])\n",
    "    values['labels']['lockbox'] = np.array(values['labels']['lockbox'])\n",
    "\n",
    "dict2hdf5('predictions_standard.h5', predictions['standard'])\n"
   ]
  }
 ],
 "metadata": {
  "kernelspec": {
   "display_name": "tf",
   "language": "python",
   "name": "python3"
  },
  "language_info": {
   "codemirror_mode": {
    "name": "ipython",
    "version": 3
   },
   "file_extension": ".py",
   "mimetype": "text/x-python",
   "name": "python",
   "nbconvert_exporter": "python",
   "pygments_lexer": "ipython3",
   "version": "3.9.18"
  }
 },
 "nbformat": 4,
 "nbformat_minor": 5
}
