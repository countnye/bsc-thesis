{
 "cells": [
  {
   "cell_type": "code",
   "execution_count": 1,
   "metadata": {},
   "outputs": [
    {
     "name": "stdout",
     "output_type": "stream",
     "text": [
      "env: CUDA_VISIBLE_DEVICES=1\n"
     ]
    }
   ],
   "source": [
    "# Set notebook to use only one GPU\n",
    "%env CUDA_VISIBLE_DEVICES=1\n",
    "# nvidia-smi | grep 'python' | awk '{ print $5 }' | xargs -n1 kill -9 to kill a process"
   ]
  },
  {
   "cell_type": "code",
   "execution_count": 2,
   "metadata": {},
   "outputs": [
    {
     "name": "stdout",
     "output_type": "stream",
     "text": [
      "Using TensorFlow backend\n"
     ]
    },
    {
     "name": "stderr",
     "output_type": "stream",
     "text": [
      "Keras Uncertainty will use standalone Keras backend"
     ]
    },
    {
     "name": "stdout",
     "output_type": "stream",
     "text": [
      "Reloading Tuner from mcdropout/tuning/mcdropout/tuner0.json\n",
      "Reloading Tuner from mcdropconnect/tuning/mcdropconnect/tuner0.json\n"
     ]
    }
   ],
   "source": [
    "import sys, os\n",
    "os.environ['TF_CPP_MIN_LOG_LEVEL'] = '3' \n",
    "\n",
    "from file_functions import *\n",
    "from models_bachelors import *\n",
    "import plotly.express as px\n",
    "import plotly.figure_factory as ff\n",
    "import pandas as pd\n",
    "from keras_uncertainty.models import StochasticClassifier\n",
    "\n",
    "dataset = load('all_subjects_runs_no_bandpass')\n",
    "loaded_inputs = dataset['inputs']\n",
    "loaded_targets = dataset['targets']\n",
    "'''\n",
    "Loads a dictionary with 2 keys: 'inputs', 'targets'. \n",
    "Both keys have ndarray containing inputs and targets\n",
    "of 9 subjects separated by subject.\n",
    "'''\n",
    "lockbox = load('lockbox')['data']\n",
    "\n",
    "\n",
    "N = 50\n",
    "# To generate N sets of predictions for statistical analysis\n",
    "\n",
    "'''\n",
    "Load best hyperparams\n",
    "'''\n",
    "dropout_best_hps, dropconnect_best_hps = load_tuned_models()\n",
    "subject_ids = [0, 1, 2, 3, 4, 5, 6, 7, 8]\n",
    "# Dropout best params were index 0: 0.2 with only fc_drop\n",
    "# Dropconnect best params were index 5: 0.1 with only conv_drop\n"
   ]
  },
  {
   "cell_type": "markdown",
   "metadata": {},
   "source": [
    "# Predictions\n",
    "\n",
    "Make 50 predictions for only the stochastic models. Standard models will be computed separately because they only need to be computed once, not 50 times due to their deterministic nature."
   ]
  },
  {
   "cell_type": "code",
   "execution_count": 3,
   "metadata": {},
   "outputs": [
    {
     "name": "stdout",
     "output_type": "stream",
     "text": [
      "standard\n",
      "test subject 0\n",
      "18/18 [==============================] - 2s 8ms/step\n",
      "15/15 [==============================] - 0s 14ms/step\n",
      "test subject 1\n",
      "18/18 [==============================] - 0s 8ms/step\n",
      "15/15 [==============================] - 0s 8ms/step\n",
      "test subject 2\n",
      "18/18 [==============================] - 0s 8ms/step\n",
      "15/15 [==============================] - 0s 8ms/step\n",
      "test subject 3\n",
      "18/18 [==============================] - 0s 8ms/step\n",
      "15/15 [==============================] - 0s 8ms/step\n",
      "test subject 4\n",
      "18/18 [==============================] - 0s 8ms/step\n",
      "15/15 [==============================] - 0s 8ms/step\n",
      "test subject 5\n",
      "18/18 [==============================] - 0s 8ms/step\n",
      "15/15 [==============================] - 0s 8ms/step\n",
      "test subject 6\n",
      "18/18 [==============================] - 0s 8ms/step\n",
      "15/15 [==============================] - 0s 8ms/step\n",
      "test subject 7\n",
      "18/18 [==============================] - 0s 8ms/step\n",
      "15/15 [==============================] - 0s 8ms/step\n",
      "test subject 8\n",
      "18/18 [==============================] - 0s 8ms/step\n",
      "15/15 [==============================] - 0s 8ms/step\n",
      "standard_dropconnect\n",
      "test subject 0\n",
      "18/18 [==============================] - 0s 8ms/step\n",
      "15/15 [==============================] - 0s 8ms/step\n",
      "test subject 1\n",
      "18/18 [==============================] - 0s 8ms/step\n",
      "15/15 [==============================] - 0s 7ms/step\n",
      "test subject 2\n",
      "18/18 [==============================] - 0s 7ms/step\n",
      "15/15 [==============================] - 0s 8ms/step\n",
      "test subject 3\n",
      "18/18 [==============================] - 0s 8ms/step\n",
      "15/15 [==============================] - 0s 8ms/step\n",
      "test subject 4\n",
      "18/18 [==============================] - 0s 7ms/step\n",
      "15/15 [==============================] - 0s 8ms/step\n",
      "test subject 5\n",
      "18/18 [==============================] - 0s 8ms/step\n",
      "15/15 [==============================] - 0s 8ms/step\n",
      "test subject 6\n",
      "18/18 [==============================] - 0s 8ms/step\n",
      "15/15 [==============================] - 0s 8ms/step\n",
      "test subject 7\n",
      "18/18 [==============================] - 0s 7ms/step\n",
      "15/15 [==============================] - 0s 8ms/step\n",
      "test subject 8\n",
      "18/18 [==============================] - 0s 7ms/step\n",
      "15/15 [==============================] - 0s 7ms/step\n"
     ]
    }
   ],
   "source": [
    "\n",
    "# For each iteration, store results dict into a \n",
    "for iteration in range(0, 1):\n",
    "    # For each method, get preds and labels for each test subject\n",
    "    # and their corresponding lockbox set.\n",
    "    predictions = {'standard': \n",
    "                {'test': {'preds':[], 'labels':[]}, \n",
    "                    'lockbox':{'preds':[], 'labels':[]}},\n",
    "                    'standard_dropconnect': \n",
    "                {'test': {'preds':[], 'labels':[]}, \n",
    "                    'lockbox':{'preds':[], 'labels':[]}}\n",
    "                }\n",
    "    for method, values in predictions.items():\n",
    "        print(f'{method}')\n",
    "        if method == 'standard':\n",
    "            wts_directory = f'mcdropout/weights'\n",
    "        elif method == 'standard_dropconnect':\n",
    "            wts_directory = f'mcdropconnect/weights'\n",
    "        else: \n",
    "            wts_directory = f'{method}/weights'\n",
    "        # Iterate through test subjects\n",
    "        for test_subject_id in range(0, 9):\n",
    "            print(f'test subject {test_subject_id}')\n",
    "            train_subj_ids = [x for x in subject_ids if x != test_subject_id]\n",
    "            X_test = loaded_inputs[test_subject_id]\n",
    "            Y_true = loaded_targets[test_subject_id]\n",
    "            # Train set is sent in because lockbox is returned from the train set not the whole dataset.\n",
    "            # This is because lockbox shape: (9, 8, 57) and inputs shape: (9, 576, 22, 1125)\n",
    "            # Axis 0 are test_subj_ids and axis 1 are the train_subject_ids.\n",
    "            # The function assumes that shape[0] of lockbox[test_subj_id] and shape[0] of\n",
    "            # inputs is the same: 8.\n",
    "            X_lock, Y_lock = get_lockbox_data(loaded_inputs[train_subj_ids], loaded_targets[train_subj_ids], lockbox[test_subject_id])\n",
    "            wts_path = checkpoint_path = f'{wts_directory}/test_subject_{test_subject_id}.ckpt'\n",
    "            if method == 'mcdropout':\n",
    "                model = build_dropout_model(dropout_best_hps)\n",
    "            elif method == 'mcdropconnect':\n",
    "                model = build_dropconnect_model(dropconnect_best_hps)\n",
    "            elif method == 'standard_dropconnect':\n",
    "                model = build_standard_model_dropconnect(dropconnect_best_hps)\n",
    "            else:\n",
    "                model = build_standard_model(dropout_best_hps)\n",
    "            \n",
    "            model.load_weights(wts_path).expect_partial()\n",
    "            # Get Y_preds for test subject\n",
    "            if method == 'mcdropconnect' or method == 'mcdropout':\n",
    "                model = StochasticClassifier(model)\n",
    "                Y_preds = model.predict_samples(X_test, num_samples=50)\n",
    "                # Get lockboxed Y_preds for test subject\n",
    "                lockbox_Y_preds = model.predict_samples(X_lock, num_samples=50)\n",
    "            else:\n",
    "                Y_preds = model.predict(X_test)\n",
    "                # Get lockboxed Y_preds for test subject\n",
    "                lockbox_Y_preds = model.predict(X_lock)\n",
    "\n",
    "            lockbox_Y_true = Y_lock\n",
    "            values['test']['preds'].append(Y_preds)\n",
    "            values['test']['labels'].append(Y_true)\n",
    "            values['lockbox']['preds'].append(lockbox_Y_preds)\n",
    "            values['lockbox']['labels'].append(lockbox_Y_true)\n",
    "\n",
    "    for method, values in predictions.items():\n",
    "        values['test']['preds'] = np.array(values['test']['preds'])\n",
    "        values['test']['labels'] = np.array(values['test']['labels'])\n",
    "        values['lockbox']['preds'] = np.array(values['lockbox']['preds'])\n",
    "        values['lockbox']['labels'] = np.array(values['lockbox']['labels'])\n",
    "\n",
    "    dict2hdf5(f'predictions/predictions_standard.h5', predictions)"
   ]
  }
 ],
 "metadata": {
  "kernelspec": {
   "display_name": "Python 3",
   "language": "python",
   "name": "python3"
  },
  "language_info": {
   "codemirror_mode": {
    "name": "ipython",
    "version": 3
   },
   "file_extension": ".py",
   "mimetype": "text/x-python",
   "name": "python",
   "nbconvert_exporter": "python",
   "pygments_lexer": "ipython3",
   "version": "3.9.18"
  }
 },
 "nbformat": 4,
 "nbformat_minor": 2
}
