{
 "cells": [
  {
   "cell_type": "markdown",
   "metadata": {},
   "source": [
    "# Purpose\n",
    "\n",
    "This notebook is to test implementation of Ensemble, Flipout and DUQ models.\n",
    "- Question: Can the ensembles use dropout and dropconnect weights? Or are they to be trained without either."
   ]
  },
  {
   "cell_type": "code",
   "execution_count": 1,
   "metadata": {},
   "outputs": [],
   "source": [
    "# Model for ensemble:\n",
    "# model = DeepEnsembleClassifier(lambda: build_standard_model(dropout_best_hps), num_estimators=10)     100 epochs\n",
    "# DUQ: 200 epochs\n",
    "# Flipout: 200 epochs"
   ]
  },
  {
   "cell_type": "code",
   "execution_count": 1,
   "metadata": {},
   "outputs": [
    {
     "name": "stdout",
     "output_type": "stream",
     "text": [
      "env: CUDA_VISIBLE_DEVICES=1\n"
     ]
    }
   ],
   "source": [
    "%env CUDA_VISIBLE_DEVICES=1"
   ]
  },
  {
   "cell_type": "code",
   "execution_count": 3,
   "metadata": {},
   "outputs": [],
   "source": [
    "import sys, os\n",
    "os.environ['TF_CPP_MIN_LOG_LEVEL'] = '3' \n",
    "from sklearn.model_selection import train_test_split\n",
    "from keras.callbacks import EarlyStopping\n",
    "from models_bachelors import *\n",
    "from file_functions import *\n",
    "import tensorflow as tf\n",
    "import keras_tuner as kt\n",
    "from keras_uncertainty.models import StochasticClassifier"
   ]
  },
  {
   "cell_type": "code",
   "execution_count": 4,
   "metadata": {},
   "outputs": [],
   "source": [
    "'''\n",
    "Load best hyperparams\n",
    "'''\n",
    "\n",
    "\n",
    "n_epochs= 200\n",
    "early_stopping = EarlyStopping(monitor='val_loss', patience=10)\n",
    "subject_ids = [0, 1, 2, 3, 4, 5, 6, 7, 8]\n",
    "'''\n",
    "Load data\n",
    "'''\n",
    "dataset = load('all_subjects_runs_no_bandpass')\n",
    "lockbox = load('lockbox')['data']\n",
    "loaded_inputs = dataset['inputs']\n",
    "loaded_targets = dataset['targets']"
   ]
  },
  {
   "cell_type": "code",
   "execution_count": 6,
   "metadata": {},
   "outputs": [
    {
     "name": "stdout",
     "output_type": "stream",
     "text": [
      "Reloading Tuner from flipout/tuning/flipout_flipout_classification_layer/tuner0.json\n"
     ]
    }
   ],
   "source": [
    "hp = load_tuned_flipout()"
   ]
  },
  {
   "cell_type": "code",
   "execution_count": null,
   "metadata": {},
   "outputs": [],
   "source": [
    "'''\n",
    "Training Loop\n",
    "'''\n",
    "for method in methods:\n",
    "    directory = f'{method}/weights'\n",
    "    # This loop leaves one subject for testing (denoted by the number in the name of the weights file).\n",
    "    # Then it combines all the subject trials such that shape is now (8 * 576, 22, 1125).\n",
    "    # Then selects 10% of this as the validation set. Then it trains diff. model on each set of train subjects.\n",
    "    for test_subject_id in subject_ids:\n",
    "        train_ids = subject_ids[:]\n",
    "        train_ids.remove(test_subject_id)       # Remove test subject id\n",
    "        test_subj_lockbox = lockbox[test_subject_id]        # Get lockbox indexes (8, 57) for the test subject\n",
    "        inputs = loaded_inputs[train_ids]           # Get train set inputs\n",
    "        targets = loaded_targets[train_ids]         # Get train set targets\n",
    "        inputs, targets = remove_lockbox(inputs, targets, test_subj_lockbox)    # Remove lockboxed set from train set\n",
    "        X_train, X_val, Y_train, Y_val = train_test_split(inputs, targets,test_size=0.1)       \n",
    "        model = build_flipout_model(X_train)\n",
    "        history = model.fit(X_train, Y_train, epochs=n_epochs, validation_data=[X_val, Y_val],\n",
    "                        callbacks=[early_stopping])\n",
    "        model.save_weights(f'{directory}_subj_{test_subject_id}')"
   ]
  },
  {
   "cell_type": "markdown",
   "metadata": {},
   "source": [
    "# Predicting"
   ]
  },
  {
   "cell_type": "code",
   "execution_count": null,
   "metadata": {},
   "outputs": [],
   "source": [
    "\n",
    "# For each iteration, store results dict into a \n",
    "for iteration in range(0, 1):\n",
    "    # For each method, get preds and labels for each test subject\n",
    "    # and their corresponding lockbox set.\n",
    "    # predictions = {'standard': \n",
    "    #             {'test': {'preds':[], 'labels':[]}, \n",
    "    #                 'lockbox':{'preds':[], 'labels':[]}},\n",
    "    #                 'standard_dropconnect': \n",
    "    #             {'test': {'preds':[], 'labels':[]}, \n",
    "    #                 'lockbox':{'preds':[], 'labels':[]}}\n",
    "    #             }\n",
    "    # predictions = {'duq': \n",
    "    #             {'test': {'preds':[], 'labels':[]}, \n",
    "    #                 'lockbox':{'preds':[], 'labels':[]}}\n",
    "    #             }\n",
    "    predictions = {'flipout': \n",
    "                {'test': {'preds':[], 'labels':[]}, \n",
    "                    'lockbox':{'preds':[], 'labels':[]}}\n",
    "                }\n",
    "\n",
    "    for method, values in predictions.items():\n",
    "        print(f'{method}')\n",
    "        if method == 'standard':\n",
    "            wts_directory = f'mcdropout/weights'\n",
    "        elif method == 'standard_dropconnect':\n",
    "            wts_directory = f'mcdropconnect/weights'\n",
    "        else:\n",
    "            wts_directory = f'{method}/weights'\n",
    "        # Iterate through test subjects\n",
    "        for test_subject_id in range(0, 9):\n",
    "            print(f'test subject {test_subject_id}')\n",
    "            train_subj_ids = [x for x in subject_ids if x != test_subject_id]\n",
    "            X_test = loaded_inputs[test_subject_id]\n",
    "            Y_true = loaded_targets[test_subject_id]\n",
    "            # Train set is sent in because lockbox is returned from the train set not the whole dataset.\n",
    "            # This is because lockbox shape: (9, 8, 57) and inputs shape: (9, 576, 22, 1125)\n",
    "            # Axis 0 are test_subj_ids and axis 1 are the train_subject_ids.\n",
    "            # The function assumes that shape[0] of lockbox[test_subj_id] and shape[0] of\n",
    "            # inputs is the same: 8.\n",
    "            X_lock, Y_lock = get_lockbox_data(loaded_inputs[train_subj_ids], loaded_targets[train_subj_ids], lockbox[test_subject_id])\n",
    "            wts_path = checkpoint_path = f'{wts_directory}/weights_subj_{test_subject_id}'\n",
    "            if method == 'mcdropout':\n",
    "                model = build_dropout_model(dropout_best_hps)\n",
    "            elif method == 'mcdropconnect':\n",
    "                model = build_dropconnect_model(dropconnect_best_hps)\n",
    "            elif method == 'standard_dropconnect':\n",
    "                model = build_standard_model_dropconnect(dropconnect_best_hps)\n",
    "            elif method == 'duq':\n",
    "                model = build_duq_model(hp)\n",
    "            elif method == 'flipout':\n",
    "                model = build_flipout_model(hp)\n",
    "            else:\n",
    "                model = build_standard_model(dropout_best_hps)\n",
    "            \n",
    "            model.load_weights(wts_path).expect_partial()\n",
    "            # Get Y_preds for test subject\n",
    "            if method in ['mcdropconnect', 'mcdropout', 'flipout']:\n",
    "                model = StochasticClassifier(model)\n",
    "                Y_preds = model.predict_samples(X_test, num_samples=50)\n",
    "                # Get lockboxed Y_preds for test subject\n",
    "                lockbox_Y_preds = model.predict_samples(X_lock, num_samples=50)\n",
    "            else:\n",
    "                Y_preds = model.predict(X_test)\n",
    "                # Get lockboxed Y_preds for test subject\n",
    "                lockbox_Y_preds = model.predict(X_lock)\n",
    "\n",
    "            lockbox_Y_true = Y_lock\n",
    "            values['test']['preds'].append(Y_preds)\n",
    "            values['test']['labels'].append(Y_true)\n",
    "            values['lockbox']['preds'].append(lockbox_Y_preds)\n",
    "            values['lockbox']['labels'].append(lockbox_Y_true)\n",
    "\n",
    "    for method, values in predictions.items():\n",
    "        values['test']['preds'] = np.array(values['test']['preds'])\n",
    "        values['test']['labels'] = np.array(values['test']['labels'])\n",
    "        values['lockbox']['preds'] = np.array(values['lockbox']['preds'])\n",
    "        values['lockbox']['labels'] = np.array(values['lockbox']['labels'])\n",
    "\n",
    "    dict2hdf5(f'predictions/predictions_flipout.h5', predictions)"
   ]
  }
 ],
 "metadata": {
  "kernelspec": {
   "display_name": "tf",
   "language": "python",
   "name": "python3"
  },
  "language_info": {
   "codemirror_mode": {
    "name": "ipython",
    "version": 3
   },
   "file_extension": ".py",
   "mimetype": "text/x-python",
   "name": "python",
   "nbconvert_exporter": "python",
   "pygments_lexer": "ipython3",
   "version": "3.9.18"
  }
 },
 "nbformat": 4,
 "nbformat_minor": 2
}
